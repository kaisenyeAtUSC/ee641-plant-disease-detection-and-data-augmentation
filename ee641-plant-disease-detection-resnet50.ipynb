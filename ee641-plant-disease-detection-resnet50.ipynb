{
 "cells": [
  {
   "cell_type": "markdown",
   "id": "14958df5",
   "metadata": {
    "papermill": {
     "duration": 0.002488,
     "end_time": "2024-12-11T21:08:45.394111",
     "exception": false,
     "start_time": "2024-12-11T21:08:45.391623",
     "status": "completed"
    },
    "tags": []
   },
   "source": [
    "**EE641 Final Project**\n",
    "\n",
    "Class: EE641 – Deep Learning Systems Topic: Plant Disease Detection Team: Kaisen Ye, Reshma Nawaz"
   ]
  },
  {
   "cell_type": "code",
   "execution_count": 1,
   "id": "ba3502ca",
   "metadata": {
    "execution": {
     "iopub.execute_input": "2024-12-11T21:08:45.399449Z",
     "iopub.status.busy": "2024-12-11T21:08:45.399121Z",
     "iopub.status.idle": "2024-12-11T21:08:57.562521Z",
     "shell.execute_reply": "2024-12-11T21:08:57.561821Z"
    },
    "papermill": {
     "duration": 12.168189,
     "end_time": "2024-12-11T21:08:57.564475",
     "exception": false,
     "start_time": "2024-12-11T21:08:45.396286",
     "status": "completed"
    },
    "tags": []
   },
   "outputs": [],
   "source": [
    "import tensorflow as tf\n",
    "from tensorflow.keras import layers, Model\n",
    "from tensorflow.keras.preprocessing.image import ImageDataGenerator\n",
    "import matplotlib.pyplot as plt"
   ]
  },
  {
   "cell_type": "code",
   "execution_count": 2,
   "id": "322f1ec7",
   "metadata": {
    "execution": {
     "iopub.execute_input": "2024-12-11T21:08:57.570451Z",
     "iopub.status.busy": "2024-12-11T21:08:57.569436Z",
     "iopub.status.idle": "2024-12-11T21:08:57.581133Z",
     "shell.execute_reply": "2024-12-11T21:08:57.580497Z"
    },
    "papermill": {
     "duration": 0.016088,
     "end_time": "2024-12-11T21:08:57.582720",
     "exception": false,
     "start_time": "2024-12-11T21:08:57.566632",
     "status": "completed"
    },
    "tags": []
   },
   "outputs": [],
   "source": [
    "# Residual Block Definition\n",
    "class ResidualBlock(Model):\n",
    "    def __init__(self, filters, kernel_size, strides=1, downsample=False):\n",
    "        super(ResidualBlock, self).__init__()\n",
    "        self.downsample = downsample\n",
    "\n",
    "        # Main path\n",
    "        self.conv1 = layers.Conv2D(filters, kernel_size, strides=strides, padding='same', kernel_initializer='he_normal')\n",
    "        self.bn1 = layers.BatchNormalization()\n",
    "        self.relu = layers.ReLU()\n",
    "        self.conv2 = layers.Conv2D(filters, kernel_size, strides=1, padding='same', kernel_initializer='he_normal')\n",
    "        self.bn2 = layers.BatchNormalization()\n",
    "\n",
    "        # Shortcut path\n",
    "        if self.downsample:\n",
    "            self.shortcut = tf.keras.Sequential([\n",
    "                layers.Conv2D(filters, kernel_size=1, strides=strides, padding='same', kernel_initializer='he_normal'),\n",
    "                layers.BatchNormalization()\n",
    "            ])\n",
    "        else:\n",
    "            self.shortcut = lambda x: x\n",
    "\n",
    "    def call(self, inputs):\n",
    "        shortcut = self.shortcut(inputs)\n",
    "\n",
    "        x = self.conv1(inputs)\n",
    "        x = self.bn1(x)\n",
    "        x = self.relu(x)\n",
    "        x = self.conv2(x)\n",
    "        x = self.bn2(x)\n",
    "\n",
    "        return self.relu(x + shortcut)\n",
    "\n",
    "\n",
    "# ResNet50 Model Definition\n",
    "class ResNet50(Model):\n",
    "    def __init__(self, num_classes):\n",
    "        super(ResNet50, self).__init__()\n",
    "\n",
    "        self.conv1 = layers.Conv2D(64, 7, strides=2, padding='same', kernel_initializer='he_normal')\n",
    "        self.bn1 = layers.BatchNormalization()\n",
    "        self.relu = layers.ReLU()\n",
    "        self.maxpool = layers.MaxPooling2D(pool_size=3, strides=2, padding='same')\n",
    "\n",
    "        # Residual blocks\n",
    "        self.layer1 = self._build_residual_layer(64, 3, strides=1)\n",
    "        self.layer2 = self._build_residual_layer(128, 4, strides=2)\n",
    "        self.layer3 = self._build_residual_layer(256, 6, strides=2)\n",
    "        self.layer4 = self._build_residual_layer(512, 3, strides=2)\n",
    "\n",
    "        self.avgpool = layers.GlobalAveragePooling2D()\n",
    "        self.fc = layers.Dense(num_classes, activation='softmax')\n",
    "\n",
    "    def _build_residual_layer(self, filters, blocks, strides):\n",
    "        layers_list = [ResidualBlock(filters, kernel_size=3, strides=strides, downsample=True)]\n",
    "        for _ in range(1, blocks):\n",
    "            layers_list.append(ResidualBlock(filters, kernel_size=3))\n",
    "        return tf.keras.Sequential(layers_list)\n",
    "\n",
    "    def call(self, inputs):\n",
    "        x = self.conv1(inputs)\n",
    "        x = self.bn1(x)\n",
    "        x = self.relu(x)\n",
    "        x = self.maxpool(x)\n",
    "\n",
    "        x = self.layer1(x)\n",
    "        x = self.layer2(x)\n",
    "        x = self.layer3(x)\n",
    "        x = self.layer4(x)\n",
    "\n",
    "        x = self.avgpool(x)\n",
    "        return self.fc(x)"
   ]
  },
  {
   "cell_type": "code",
   "execution_count": 3,
   "id": "9ac2174e",
   "metadata": {
    "execution": {
     "iopub.execute_input": "2024-12-11T21:08:57.587701Z",
     "iopub.status.busy": "2024-12-11T21:08:57.587208Z",
     "iopub.status.idle": "2024-12-11T21:09:01.805022Z",
     "shell.execute_reply": "2024-12-11T21:09:01.804378Z"
    },
    "jupyter": {
     "source_hidden": true
    },
    "papermill": {
     "duration": 4.221971,
     "end_time": "2024-12-11T21:09:01.806584",
     "exception": false,
     "start_time": "2024-12-11T21:08:57.584613",
     "status": "completed"
    },
    "tags": []
   },
   "outputs": [
    {
     "name": "stdout",
     "output_type": "stream",
     "text": [
      "Found 1322 images belonging to 3 classes.\n",
      "Found 60 images belonging to 3 classes.\n",
      "Found 150 images belonging to 3 classes.\n"
     ]
    }
   ],
   "source": [
    "# Dataset Preparation\n",
    "data_dir = \"/kaggle/input/plant-disease-recognition-dataset\"\n",
    "image_size = 224\n",
    "\n",
    "train_datagen = ImageDataGenerator(\n",
    "    rescale=1.0/255,\n",
    "    shear_range=0.2,\n",
    "    zoom_range=0.2,\n",
    "    horizontal_flip=True\n",
    ")\n",
    "\n",
    "val_datagen = ImageDataGenerator(rescale=1.0/255)\n",
    "test_datagen = ImageDataGenerator(rescale=1.0/255)\n",
    "\n",
    "train_dataset = train_datagen.flow_from_directory(\n",
    "    f'{data_dir}/Train/Train',\n",
    "    target_size=(image_size, image_size),\n",
    "    batch_size=32,\n",
    "    class_mode='sparse'\n",
    ")\n",
    "val_dataset = val_datagen.flow_from_directory(\n",
    "    f'{data_dir}/Validation/Validation',\n",
    "    target_size=(image_size, image_size),\n",
    "    batch_size=32,\n",
    "    class_mode='sparse'\n",
    ")\n",
    "test_dataset = test_datagen.flow_from_directory(\n",
    "    f'{data_dir}/Test/Test',\n",
    "    target_size=(image_size, image_size),\n",
    "    batch_size=32,\n",
    "    class_mode='sparse'\n",
    ")"
   ]
  },
  {
   "cell_type": "code",
   "execution_count": 4,
   "id": "237433a4",
   "metadata": {
    "execution": {
     "iopub.execute_input": "2024-12-11T21:09:01.812244Z",
     "iopub.status.busy": "2024-12-11T21:09:01.811709Z",
     "iopub.status.idle": "2024-12-11T21:09:02.635344Z",
     "shell.execute_reply": "2024-12-11T21:09:02.634697Z"
    },
    "papermill": {
     "duration": 0.828362,
     "end_time": "2024-12-11T21:09:02.637232",
     "exception": false,
     "start_time": "2024-12-11T21:09:01.808870",
     "status": "completed"
    },
    "tags": []
   },
   "outputs": [],
   "source": [
    "# Compile and Train the Model\n",
    "num_classes = 3  # Adjust based on your dataset\n",
    "model = ResNet50(num_classes)\n",
    "\n",
    "lr_schedule = tf.keras.optimizers.schedules.ExponentialDecay(\n",
    "    initial_learning_rate=3e-4,  # Starting learning rate\n",
    "    decay_steps=1000,           # Number of steps to decay\n",
    "    decay_rate=0.96,            # Multiplicative factor of learning rate decay\n",
    "    staircase=True              # Decay in discrete intervals\n",
    ")\n",
    "\n",
    "model.compile(\n",
    "    optimizer=tf.keras.optimizers.Adam(learning_rate=lr_schedule),\n",
    "    loss=tf.keras.losses.SparseCategoricalCrossentropy(),\n",
    "    metrics=['accuracy']\n",
    ")"
   ]
  },
  {
   "cell_type": "code",
   "execution_count": 5,
   "id": "dc3192e7",
   "metadata": {
    "execution": {
     "iopub.execute_input": "2024-12-11T21:09:02.643742Z",
     "iopub.status.busy": "2024-12-11T21:09:02.643000Z",
     "iopub.status.idle": "2024-12-11T21:36:54.684448Z",
     "shell.execute_reply": "2024-12-11T21:36:54.683782Z"
    },
    "papermill": {
     "duration": 1672.046299,
     "end_time": "2024-12-11T21:36:54.686186",
     "exception": false,
     "start_time": "2024-12-11T21:09:02.639887",
     "status": "completed"
    },
    "tags": []
   },
   "outputs": [
    {
     "name": "stdout",
     "output_type": "stream",
     "text": [
      "Epoch 1/20\n"
     ]
    },
    {
     "name": "stderr",
     "output_type": "stream",
     "text": [
      "/opt/conda/lib/python3.10/site-packages/keras/src/trainers/data_adapters/py_dataset_adapter.py:121: UserWarning: Your `PyDataset` class should call `super().__init__(**kwargs)` in its constructor. `**kwargs` can include `workers`, `use_multiprocessing`, `max_queue_size`. Do not pass these arguments to `fit()`, as they will be ignored.\n",
      "  self._warn_if_super_not_called()\n",
      "WARNING: All log messages before absl::InitializeLog() is called are written to STDERR\n",
      "I0000 00:00:1733951386.995010      85 service.cc:145] XLA service 0x7d8b4c001df0 initialized for platform CUDA (this does not guarantee that XLA will be used). Devices:\n",
      "I0000 00:00:1733951386.995066      85 service.cc:153]   StreamExecutor device (0): Tesla P100-PCIE-16GB, Compute Capability 6.0\n"
     ]
    },
    {
     "name": "stdout",
     "output_type": "stream",
     "text": [
      "\u001b[1m 1/42\u001b[0m \u001b[37m━━━━━━━━━━━━━━━━━━━━\u001b[0m \u001b[1m34:34\u001b[0m 51s/step - accuracy: 0.2812 - loss: 388.2906"
     ]
    },
    {
     "name": "stderr",
     "output_type": "stream",
     "text": [
      "I0000 00:00:1733951399.564974      85 device_compiler.h:188] Compiled cluster using XLA!  This line is logged at most once for the lifetime of the process.\n"
     ]
    },
    {
     "name": "stdout",
     "output_type": "stream",
     "text": [
      "\u001b[1m42/42\u001b[0m \u001b[32m━━━━━━━━━━━━━━━━━━━━\u001b[0m\u001b[37m\u001b[0m \u001b[1m149s\u001b[0m 2s/step - accuracy: 0.3133 - loss: 178.1672 - val_accuracy: 0.3333 - val_loss: 1.1033\n",
      "Epoch 2/20\n",
      "\u001b[1m42/42\u001b[0m \u001b[32m━━━━━━━━━━━━━━━━━━━━\u001b[0m\u001b[37m\u001b[0m \u001b[1m80s\u001b[0m 2s/step - accuracy: 0.3952 - loss: 1.0602 - val_accuracy: 0.4833 - val_loss: 0.9171\n",
      "Epoch 3/20\n",
      "\u001b[1m42/42\u001b[0m \u001b[32m━━━━━━━━━━━━━━━━━━━━\u001b[0m\u001b[37m\u001b[0m \u001b[1m79s\u001b[0m 2s/step - accuracy: 0.5857 - loss: 0.8372 - val_accuracy: 0.5167 - val_loss: 0.8547\n",
      "Epoch 4/20\n",
      "\u001b[1m42/42\u001b[0m \u001b[32m━━━━━━━━━━━━━━━━━━━━\u001b[0m\u001b[37m\u001b[0m \u001b[1m87s\u001b[0m 2s/step - accuracy: 0.6417 - loss: 0.7309 - val_accuracy: 0.6333 - val_loss: 0.7560\n",
      "Epoch 5/20\n",
      "\u001b[1m42/42\u001b[0m \u001b[32m━━━━━━━━━━━━━━━━━━━━\u001b[0m\u001b[37m\u001b[0m \u001b[1m79s\u001b[0m 2s/step - accuracy: 0.6082 - loss: 0.7695 - val_accuracy: 0.5833 - val_loss: 0.7890\n",
      "Epoch 6/20\n",
      "\u001b[1m42/42\u001b[0m \u001b[32m━━━━━━━━━━━━━━━━━━━━\u001b[0m\u001b[37m\u001b[0m \u001b[1m81s\u001b[0m 2s/step - accuracy: 0.6896 - loss: 0.6353 - val_accuracy: 0.7000 - val_loss: 0.7159\n",
      "Epoch 7/20\n",
      "\u001b[1m42/42\u001b[0m \u001b[32m━━━━━━━━━━━━━━━━━━━━\u001b[0m\u001b[37m\u001b[0m \u001b[1m79s\u001b[0m 2s/step - accuracy: 0.7358 - loss: 0.6229 - val_accuracy: 0.6500 - val_loss: 0.7134\n",
      "Epoch 8/20\n",
      "\u001b[1m42/42\u001b[0m \u001b[32m━━━━━━━━━━━━━━━━━━━━\u001b[0m\u001b[37m\u001b[0m \u001b[1m76s\u001b[0m 2s/step - accuracy: 0.7142 - loss: 0.6366 - val_accuracy: 0.7167 - val_loss: 0.6580\n",
      "Epoch 9/20\n",
      "\u001b[1m42/42\u001b[0m \u001b[32m━━━━━━━━━━━━━━━━━━━━\u001b[0m\u001b[37m\u001b[0m \u001b[1m78s\u001b[0m 2s/step - accuracy: 0.8517 - loss: 0.4006 - val_accuracy: 0.8333 - val_loss: 0.4124\n",
      "Epoch 10/20\n",
      "\u001b[1m42/42\u001b[0m \u001b[32m━━━━━━━━━━━━━━━━━━━━\u001b[0m\u001b[37m\u001b[0m \u001b[1m80s\u001b[0m 2s/step - accuracy: 0.9129 - loss: 0.2596 - val_accuracy: 0.8333 - val_loss: 0.6245\n",
      "Epoch 11/20\n",
      "\u001b[1m42/42\u001b[0m \u001b[32m━━━━━━━━━━━━━━━━━━━━\u001b[0m\u001b[37m\u001b[0m \u001b[1m84s\u001b[0m 2s/step - accuracy: 0.9054 - loss: 0.2718 - val_accuracy: 0.8500 - val_loss: 0.3374\n",
      "Epoch 12/20\n",
      "\u001b[1m42/42\u001b[0m \u001b[32m━━━━━━━━━━━━━━━━━━━━\u001b[0m\u001b[37m\u001b[0m \u001b[1m79s\u001b[0m 2s/step - accuracy: 0.9075 - loss: 0.2607 - val_accuracy: 0.9500 - val_loss: 0.2607\n",
      "Epoch 13/20\n",
      "\u001b[1m42/42\u001b[0m \u001b[32m━━━━━━━━━━━━━━━━━━━━\u001b[0m\u001b[37m\u001b[0m \u001b[1m79s\u001b[0m 2s/step - accuracy: 0.9282 - loss: 0.2211 - val_accuracy: 0.8833 - val_loss: 0.3173\n",
      "Epoch 14/20\n",
      "\u001b[1m42/42\u001b[0m \u001b[32m━━━━━━━━━━━━━━━━━━━━\u001b[0m\u001b[37m\u001b[0m \u001b[1m79s\u001b[0m 2s/step - accuracy: 0.9577 - loss: 0.1537 - val_accuracy: 0.9000 - val_loss: 0.8428\n",
      "Epoch 15/20\n",
      "\u001b[1m42/42\u001b[0m \u001b[32m━━━━━━━━━━━━━━━━━━━━\u001b[0m\u001b[37m\u001b[0m \u001b[1m80s\u001b[0m 2s/step - accuracy: 0.9372 - loss: 0.2186 - val_accuracy: 0.9333 - val_loss: 0.2486\n",
      "Epoch 16/20\n",
      "\u001b[1m42/42\u001b[0m \u001b[32m━━━━━━━━━━━━━━━━━━━━\u001b[0m\u001b[37m\u001b[0m \u001b[1m79s\u001b[0m 2s/step - accuracy: 0.9443 - loss: 0.1582 - val_accuracy: 0.9167 - val_loss: 0.4134\n",
      "Epoch 17/20\n",
      "\u001b[1m42/42\u001b[0m \u001b[32m━━━━━━━━━━━━━━━━━━━━\u001b[0m\u001b[37m\u001b[0m \u001b[1m80s\u001b[0m 2s/step - accuracy: 0.9423 - loss: 0.1646 - val_accuracy: 0.9167 - val_loss: 0.4317\n",
      "Epoch 18/20\n",
      "\u001b[1m42/42\u001b[0m \u001b[32m━━━━━━━━━━━━━━━━━━━━\u001b[0m\u001b[37m\u001b[0m \u001b[1m78s\u001b[0m 2s/step - accuracy: 0.9586 - loss: 0.1372 - val_accuracy: 0.9000 - val_loss: 0.2667\n",
      "Epoch 19/20\n",
      "\u001b[1m42/42\u001b[0m \u001b[32m━━━━━━━━━━━━━━━━━━━━\u001b[0m\u001b[37m\u001b[0m \u001b[1m79s\u001b[0m 2s/step - accuracy: 0.9510 - loss: 0.1568 - val_accuracy: 0.9000 - val_loss: 0.3334\n",
      "Epoch 20/20\n",
      "\u001b[1m42/42\u001b[0m \u001b[32m━━━━━━━━━━━━━━━━━━━━\u001b[0m\u001b[37m\u001b[0m \u001b[1m81s\u001b[0m 2s/step - accuracy: 0.9339 - loss: 0.1932 - val_accuracy: 0.8833 - val_loss: 0.2545\n"
     ]
    }
   ],
   "source": [
    "history = model.fit(train_dataset, epochs=20, validation_data=val_dataset)"
   ]
  },
  {
   "cell_type": "code",
   "execution_count": 6,
   "id": "4740b124",
   "metadata": {
    "execution": {
     "iopub.execute_input": "2024-12-11T21:36:54.768201Z",
     "iopub.status.busy": "2024-12-11T21:36:54.767166Z",
     "iopub.status.idle": "2024-12-11T21:36:55.179695Z",
     "shell.execute_reply": "2024-12-11T21:36:55.178825Z"
    },
    "papermill": {
     "duration": 0.460174,
     "end_time": "2024-12-11T21:36:55.186949",
     "exception": false,
     "start_time": "2024-12-11T21:36:54.726775",
     "status": "completed"
    },
    "tags": []
   },
   "outputs": [
    {
     "data": {
      "image/png": "[encoded data removed]",
      "text/plain": [
       "<Figure size 1200x400 with 2 Axes>"
      ]
     },
     "metadata": {},
     "output_type": "display_data"
    }
   ],
   "source": [
    "import matplotlib.pyplot as plt\n",
    "# Plot training results\n",
    "plt.figure(figsize=(12, 4))\n",
    "\n",
    "# Plot training & validation accuracy values\n",
    "plt.subplot(1, 2, 1)\n",
    "plt.plot(history.history['accuracy'], label='Training Accuracy')\n",
    "plt.plot(history.history['val_accuracy'], label='Validation Accuracy')\n",
    "plt.title('Model Accuracy')\n",
    "plt.xlabel('Epoch')\n",
    "plt.ylabel('Accuracy')\n",
    "plt.legend()\n",
    "\n",
    "# Plot validation loss values\n",
    "plt.subplot(1, 2, 2)\n",
    "plt.plot(history.history['loss'], label='Training Loss')\n",
    "plt.plot(history.history['val_loss'], label='Validation Loss')\n",
    "plt.title('Model Loss')\n",
    "plt.xlabel('Epoch')\n",
    "plt.ylabel('Loss')\n",
    "plt.legend()\n",
    "plt.show()"
   ]
  },
  {
   "cell_type": "code",
   "execution_count": 7,
   "id": "dc9d2051",
   "metadata": {
    "execution": {
     "iopub.execute_input": "2024-12-11T21:36:55.270601Z",
     "iopub.status.busy": "2024-12-11T21:36:55.270261Z",
     "iopub.status.idle": "2024-12-11T21:37:11.257037Z",
     "shell.execute_reply": "2024-12-11T21:37:11.255888Z"
    },
    "papermill": {
     "duration": 16.030109,
     "end_time": "2024-12-11T21:37:11.258810",
     "exception": false,
     "start_time": "2024-12-11T21:36:55.228701",
     "status": "completed"
    },
    "tags": []
   },
   "outputs": [
    {
     "name": "stdout",
     "output_type": "stream",
     "text": [
      "\u001b[1m5/5\u001b[0m \u001b[32m━━━━━━━━━━━━━━━━━━━━\u001b[0m\u001b[37m\u001b[0m \u001b[1m11s\u001b[0m 2s/step - accuracy: 0.8963 - loss: 0.2380\n",
      "Test Loss: 0.23540489375591278\n",
      "Test Accuracy: 0.8933333158493042\n"
     ]
    }
   ],
   "source": [
    "# Evaluate on Test Dataset\n",
    "test_loss, test_accuracy = model.evaluate(test_dataset)\n",
    "print(f'Test Loss: {test_loss}')\n",
    "print(f'Test Accuracy: {test_accuracy}')"
   ]
  },
  {
   "cell_type": "code",
   "execution_count": 8,
   "id": "2e58c6c1",
   "metadata": {
    "execution": {
     "iopub.execute_input": "2024-12-11T21:37:11.354672Z",
     "iopub.status.busy": "2024-12-11T21:37:11.353994Z",
     "iopub.status.idle": "2024-12-11T21:37:11.953424Z",
     "shell.execute_reply": "2024-12-11T21:37:11.952479Z"
    },
    "papermill": {
     "duration": 0.643696,
     "end_time": "2024-12-11T21:37:11.955459",
     "exception": false,
     "start_time": "2024-12-11T21:37:11.311763",
     "status": "completed"
    },
    "tags": []
   },
   "outputs": [],
   "source": [
    "# Save the model\n",
    "model.save('/kaggle/working/resnet50_plant_disease_model_from_scratch.h5')"
   ]
  }
 ],
 "metadata": {
  "kaggle": {
   "accelerator": "none",
   "dataSources": [
    {
     "datasetId": 1447507,
     "sourceId": 2394131,
     "sourceType": "datasetVersion"
    }
   ],
   "dockerImageVersionId": 30804,
   "isGpuEnabled": false,
   "isInternetEnabled": true,
   "language": "python",
   "sourceType": "notebook"
  },
  "kernelspec": {
   "display_name": "Python 3",
   "language": "python",
   "name": "python3"
  },
  "language_info": {
   "codemirror_mode": {
    "name": "ipython",
    "version": 3
   },
   "file_extension": ".py",
   "mimetype": "text/x-python",
   "name": "python",
   "nbconvert_exporter": "python",
   "pygments_lexer": "ipython3",
   "version": "3.10.14"
  },
  "papermill": {
   "default_parameters": {},
   "duration": 1712.306341,
   "end_time": "2024-12-11T21:37:15.159951",
   "environment_variables": {},
   "exception": null,
   "input_path": "__notebook__.ipynb",
   "output_path": "__notebook__.ipynb",
   "parameters": {},
   "start_time": "2024-12-11T21:08:42.853610",
   "version": "2.6.0"
  }
 },
 "nbformat": 4,
 "nbformat_minor": 5
}
