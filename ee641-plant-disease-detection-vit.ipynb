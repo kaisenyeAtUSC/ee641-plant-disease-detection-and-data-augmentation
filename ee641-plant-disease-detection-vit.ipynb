{
 "cells": [
  {
   "cell_type": "markdown",
   "id": "803b1ee0",
   "metadata": {
    "papermill": {
     "duration": 0.003127,
     "end_time": "2024-12-15T20:27:47.556072",
     "exception": false,
     "start_time": "2024-12-15T20:27:47.552945",
     "status": "completed"
    },
    "tags": []
   },
   "source": [
    "## EE641 Final Project - Plant Disease Detection using ViT\n",
    "- Class: EE641 – Deep Learning Systems\n",
    "- Topic: Plant Disease Detection\n",
    "- Team: Kaisen Ye, Reshma Nawaz"
   ]
  },
  {
   "cell_type": "code",
   "execution_count": 1,
   "id": "d876ffd0",
   "metadata": {
    "execution": {
     "iopub.execute_input": "2024-12-15T20:27:47.562641Z",
     "iopub.status.busy": "2024-12-15T20:27:47.562356Z",
     "iopub.status.idle": "2024-12-15T20:27:59.889615Z",
     "shell.execute_reply": "2024-12-15T20:27:59.888718Z"
    },
    "papermill": {
     "duration": 12.332736,
     "end_time": "2024-12-15T20:27:59.891638",
     "exception": false,
     "start_time": "2024-12-15T20:27:47.558902",
     "status": "completed"
    },
    "tags": []
   },
   "outputs": [],
   "source": [
    "import tensorflow as tf\n",
    "from tensorflow.keras import layers, Model\n",
    "import numpy as np\n",
    "from tensorflow.keras.preprocessing.image import ImageDataGenerator\n",
    "from sklearn.metrics import confusion_matrix, ConfusionMatrixDisplay\n",
    "import matplotlib.pyplot as plt"
   ]
  },
  {
   "cell_type": "markdown",
   "id": "150c1405",
   "metadata": {
    "papermill": {
     "duration": 0.002495,
     "end_time": "2024-12-15T20:27:59.897054",
     "exception": false,
     "start_time": "2024-12-15T20:27:59.894559",
     "status": "completed"
    },
    "tags": []
   },
   "source": [
    "### ViT Model\n",
    "- Patch Extraction: Extract patches from input images and project them to a dense representation.\n",
    "- Positional Embedding: To help the model understand the order of patches.\n",
    "- Transformer Blocks: Consist of multi-head attention, layer normalization, and a feed-forward MLP network.\n"
   ]
  },
  {
   "cell_type": "code",
   "execution_count": 2,
   "id": "e531243f",
   "metadata": {
    "execution": {
     "iopub.execute_input": "2024-12-15T20:27:59.903887Z",
     "iopub.status.busy": "2024-12-15T20:27:59.903424Z",
     "iopub.status.idle": "2024-12-15T20:27:59.915676Z",
     "shell.execute_reply": "2024-12-15T20:27:59.914790Z"
    },
    "papermill": {
     "duration": 0.01769,
     "end_time": "2024-12-15T20:27:59.917350",
     "exception": false,
     "start_time": "2024-12-15T20:27:59.899660",
     "status": "completed"
    },
    "tags": []
   },
   "outputs": [],
   "source": [
    "class VisionTransformer(Model):\n",
    "    def __init__(self, num_classes, image_size=224, patch_size=16, num_patches=196, d_model=64, num_heads=4, mlp_dim=128, num_layers=6, dropout=0.1):\n",
    "        super(VisionTransformer, self).__init__()\n",
    "        \n",
    "        self.num_patches = (image_size // patch_size) ** 2\n",
    "        self.patch_dim = patch_size * patch_size * 3\n",
    "        self.d_model = d_model\n",
    "        \n",
    "        # Layers for embedding\n",
    "        self.patch_projection = layers.Dense(d_model)\n",
    "        self.position_embedding = layers.Embedding(input_dim=self.num_patches, output_dim=d_model)\n",
    "        \n",
    "        # Transformer blocks\n",
    "        self.transformer_blocks = [\n",
    "            TransformerBlock(d_model, num_heads, mlp_dim, dropout)\n",
    "            for _ in range(num_layers)\n",
    "        ]\n",
    "        \n",
    "        # MLP Head\n",
    "        self.mlp_head = tf.keras.Sequential([\n",
    "            layers.LayerNormalization(epsilon=1e-6),\n",
    "            layers.GlobalAveragePooling1D(),\n",
    "            layers.Dense(mlp_dim, activation='relu'),\n",
    "            layers.Dropout(dropout),\n",
    "            layers.Dense(num_classes, activation='softmax')\n",
    "        ])\n",
    "\n",
    "    def extract_patches(self, images, patch_size):\n",
    "        batch_size = tf.shape(images)[0]\n",
    "        patches = tf.image.extract_patches(\n",
    "            images=images,\n",
    "            sizes=[1, patch_size, patch_size, 1],\n",
    "            strides=[1, patch_size, patch_size, 1],\n",
    "            rates=[1, 1, 1, 1],\n",
    "            padding='VALID'\n",
    "        )\n",
    "        patch_dims = patches.shape[-1]\n",
    "        patches = tf.reshape(patches, [batch_size, -1, patch_dims])\n",
    "        return patches\n",
    "\n",
    "    def call(self, inputs):\n",
    "        batch_size = tf.shape(inputs)[0]\n",
    "        patches = self.extract_patches(inputs, patch_size=int(np.sqrt(self.patch_dim / 3)))\n",
    "        patches = self.patch_projection(patches)\n",
    "        positions = tf.range(start=0, limit=self.num_patches, delta=1)\n",
    "        embedded_patches = patches + self.position_embedding(positions)\n",
    "        \n",
    "        x = embedded_patches\n",
    "        for transformer_block in self.transformer_blocks:\n",
    "            x = transformer_block(x)\n",
    "        \n",
    "        return self.mlp_head(x)\n",
    "\n",
    "class TransformerBlock(layers.Layer):\n",
    "    def __init__(self, d_model, num_heads, mlp_dim, dropout):\n",
    "        super(TransformerBlock, self).__init__()\n",
    "        self.att = layers.MultiHeadAttention(num_heads=num_heads, key_dim=d_model)\n",
    "        self.norm1 = layers.LayerNormalization(epsilon=1e-6)\n",
    "        self.norm2 = layers.LayerNormalization(epsilon=1e-6)\n",
    "        \n",
    "        self.mlp = tf.keras.Sequential([\n",
    "            layers.Dense(mlp_dim, activation='relu'),\n",
    "            layers.Dropout(dropout),\n",
    "            layers.Dense(d_model),\n",
    "            layers.Dropout(dropout)\n",
    "        ])\n",
    "\n",
    "    def call(self, inputs):\n",
    "        attn_output = self.att(inputs, inputs)\n",
    "        out1 = self.norm1(inputs + attn_output)\n",
    "        mlp_output = self.mlp(out1)\n",
    "        return self.norm2(out1 + mlp_output)"
   ]
  },
  {
   "cell_type": "markdown",
   "id": "7781f24e",
   "metadata": {
    "papermill": {
     "duration": 0.002462,
     "end_time": "2024-12-15T20:27:59.922375",
     "exception": false,
     "start_time": "2024-12-15T20:27:59.919913",
     "status": "completed"
    },
    "tags": []
   },
   "source": [
    "### Data Preprocessing"
   ]
  },
  {
   "cell_type": "code",
   "execution_count": 3,
   "id": "7513cd81",
   "metadata": {
    "execution": {
     "iopub.execute_input": "2024-12-15T20:27:59.929587Z",
     "iopub.status.busy": "2024-12-15T20:27:59.929344Z",
     "iopub.status.idle": "2024-12-15T20:28:04.279560Z",
     "shell.execute_reply": "2024-12-15T20:28:04.278832Z"
    },
    "papermill": {
     "duration": 4.356375,
     "end_time": "2024-12-15T20:28:04.281276",
     "exception": false,
     "start_time": "2024-12-15T20:27:59.924901",
     "status": "completed"
    },
    "tags": []
   },
   "outputs": [
    {
     "name": "stdout",
     "output_type": "stream",
     "text": [
      "Found 1322 images belonging to 3 classes.\n",
      "Found 60 images belonging to 3 classes.\n",
      "Found 150 images belonging to 3 classes.\n"
     ]
    }
   ],
   "source": [
    "# Dataset Paths\n",
    "data_dir = \"/kaggle/input/plant-disease-recognition-dataset\"\n",
    "image_size = 224\n",
    "\n",
    "# Data Preprocessing\n",
    "train_datagen = ImageDataGenerator(\n",
    "    rescale=1.0/255,\n",
    "    shear_range=0.2,\n",
    "    zoom_range=0.2,\n",
    "    horizontal_flip=True\n",
    ")\n",
    "val_datagen = ImageDataGenerator(rescale=1.0/255)\n",
    "\n",
    "test_datagen = ImageDataGenerator(rescale=1.0/255)\n",
    "\n",
    "train_dataset = train_datagen.flow_from_directory(\n",
    "    f'{data_dir}/Train/Train',\n",
    "    target_size=(image_size, image_size),\n",
    "    batch_size=32,\n",
    "    class_mode='sparse'\n",
    ")\n",
    "val_dataset = val_datagen.flow_from_directory(\n",
    "    f'{data_dir}/Validation/Validation',\n",
    "    target_size=(image_size, image_size),\n",
    "    batch_size=32,\n",
    "    class_mode='sparse'\n",
    ")\n",
    "test_dataset = test_datagen.flow_from_directory(\n",
    "    f'{data_dir}/Test/Test',\n",
    "    target_size=(image_size, image_size),\n",
    "    batch_size=32,\n",
    "    class_mode='sparse'\n",
    ")"
   ]
  },
  {
   "cell_type": "markdown",
   "id": "c5be3071",
   "metadata": {
    "papermill": {
     "duration": 0.0029,
     "end_time": "2024-12-15T20:28:04.287380",
     "exception": false,
     "start_time": "2024-12-15T20:28:04.284480",
     "status": "completed"
    },
    "tags": []
   },
   "source": [
    "### Hyperparameters and Model Compile"
   ]
  },
  {
   "cell_type": "code",
   "execution_count": 4,
   "id": "deaf6a11",
   "metadata": {
    "execution": {
     "iopub.execute_input": "2024-12-15T20:28:04.294433Z",
     "iopub.status.busy": "2024-12-15T20:28:04.293899Z",
     "iopub.status.idle": "2024-12-15T20:28:05.084133Z",
     "shell.execute_reply": "2024-12-15T20:28:05.083236Z"
    },
    "papermill": {
     "duration": 0.795673,
     "end_time": "2024-12-15T20:28:05.085890",
     "exception": false,
     "start_time": "2024-12-15T20:28:04.290217",
     "status": "completed"
    },
    "tags": []
   },
   "outputs": [
    {
     "name": "stdout",
     "output_type": "stream",
     "text": [
      "Num GPUs Available:  1\n"
     ]
    }
   ],
   "source": [
    "# Set parameters\n",
    "num_classes = 3  # Only 3 classes: Healthy, Powdery, Rust\n",
    "patch_size = 16\n",
    "num_patches = (image_size // patch_size) ** 2\n",
    "\n",
    "d_model = 64\n",
    "num_heads = 4\n",
    "mlp_dim = 128\n",
    "num_layers = 6\n",
    "\n",
    "dropout_rate = 0.1\n",
    "\n",
    "# Initialize the model\n",
    "vit_model = VisionTransformer(num_classes=num_classes,\n",
    "                              image_size=image_size,\n",
    "                              patch_size=patch_size,\n",
    "                              num_patches=num_patches,\n",
    "                              d_model=d_model,\n",
    "                              num_heads=num_heads,\n",
    "                              mlp_dim=mlp_dim,\n",
    "                              num_layers=num_layers,\n",
    "                              dropout=dropout_rate)\n",
    "# Compile the model\n",
    "vit_model.compile(\n",
    "    optimizer=tf.keras.optimizers.Adam(learning_rate=3e-4),\n",
    "    loss=tf.keras.losses.SparseCategoricalCrossentropy(),\n",
    "    metrics=['accuracy']\n",
    ")\n",
    "\n",
    "# Check if GPU available\n",
    "print(\"Num GPUs Available: \", len(tf.config.list_physical_devices('GPU')))"
   ]
  },
  {
   "cell_type": "markdown",
   "id": "1b8f3294",
   "metadata": {
    "papermill": {
     "duration": 0.002973,
     "end_time": "2024-12-15T20:28:05.092203",
     "exception": false,
     "start_time": "2024-12-15T20:28:05.089230",
     "status": "completed"
    },
    "tags": []
   },
   "source": [
    "### Training"
   ]
  },
  {
   "cell_type": "code",
   "execution_count": 5,
   "id": "e77b2cd5",
   "metadata": {
    "execution": {
     "iopub.execute_input": "2024-12-15T20:28:05.099642Z",
     "iopub.status.busy": "2024-12-15T20:28:05.098945Z",
     "iopub.status.idle": "2024-12-15T20:55:55.349190Z",
     "shell.execute_reply": "2024-12-15T20:55:55.348480Z"
    },
    "papermill": {
     "duration": 1670.255571,
     "end_time": "2024-12-15T20:55:55.350906",
     "exception": false,
     "start_time": "2024-12-15T20:28:05.095335",
     "status": "completed"
    },
    "tags": []
   },
   "outputs": [
    {
     "name": "stdout",
     "output_type": "stream",
     "text": [
      "Epoch 1/20\n"
     ]
    },
    {
     "name": "stderr",
     "output_type": "stream",
     "text": [
      "/opt/conda/lib/python3.10/site-packages/keras/src/trainers/data_adapters/py_dataset_adapter.py:121: UserWarning: Your `PyDataset` class should call `super().__init__(**kwargs)` in its constructor. `**kwargs` can include `workers`, `use_multiprocessing`, `max_queue_size`. Do not pass these arguments to `fit()`, as they will be ignored.\n",
      "  self._warn_if_super_not_called()\n",
      "WARNING: All log messages before absl::InitializeLog() is called are written to STDERR\n",
      "I0000 00:00:1734294526.181605      88 service.cc:145] XLA service 0x78ed1c050590 initialized for platform CUDA (this does not guarantee that XLA will be used). Devices:\n",
      "I0000 00:00:1734294526.181668      88 service.cc:153]   StreamExecutor device (0): Tesla P100-PCIE-16GB, Compute Capability 6.0\n"
     ]
    },
    {
     "name": "stdout",
     "output_type": "stream",
     "text": [
      "\u001b[1m 1/42\u001b[0m \u001b[37m━━━━━━━━━━━━━━━━━━━━\u001b[0m \u001b[1m28:22\u001b[0m 42s/step - accuracy: 0.3438 - loss: 1.1607"
     ]
    },
    {
     "name": "stderr",
     "output_type": "stream",
     "text": [
      "I0000 00:00:1734294533.174057      88 device_compiler.h:188] Compiled cluster using XLA!  This line is logged at most once for the lifetime of the process.\n"
     ]
    },
    {
     "name": "stdout",
     "output_type": "stream",
     "text": [
      "\u001b[1m42/42\u001b[0m \u001b[32m━━━━━━━━━━━━━━━━━━━━\u001b[0m\u001b[37m\u001b[0m \u001b[1m133s\u001b[0m 2s/step - accuracy: 0.3633 - loss: 1.1321 - val_accuracy: 0.3333 - val_loss: 1.1146\n",
      "Epoch 2/20\n",
      "\u001b[1m42/42\u001b[0m \u001b[32m━━━━━━━━━━━━━━━━━━━━\u001b[0m\u001b[37m\u001b[0m \u001b[1m82s\u001b[0m 2s/step - accuracy: 0.3393 - loss: 1.1002 - val_accuracy: 0.3833 - val_loss: 1.0614\n",
      "Epoch 3/20\n",
      "\u001b[1m42/42\u001b[0m \u001b[32m━━━━━━━━━━━━━━━━━━━━\u001b[0m\u001b[37m\u001b[0m \u001b[1m86s\u001b[0m 2s/step - accuracy: 0.5111 - loss: 0.9768 - val_accuracy: 0.4500 - val_loss: 0.9758\n",
      "Epoch 4/20\n",
      "\u001b[1m42/42\u001b[0m \u001b[32m━━━━━━━━━━━━━━━━━━━━\u001b[0m\u001b[37m\u001b[0m \u001b[1m81s\u001b[0m 2s/step - accuracy: 0.5577 - loss: 0.9003 - val_accuracy: 0.4000 - val_loss: 1.0410\n",
      "Epoch 5/20\n",
      "\u001b[1m42/42\u001b[0m \u001b[32m━━━━━━━━━━━━━━━━━━━━\u001b[0m\u001b[37m\u001b[0m \u001b[1m81s\u001b[0m 2s/step - accuracy: 0.5530 - loss: 0.8786 - val_accuracy: 0.4833 - val_loss: 1.0315\n",
      "Epoch 6/20\n",
      "\u001b[1m42/42\u001b[0m \u001b[32m━━━━━━━━━━━━━━━━━━━━\u001b[0m\u001b[37m\u001b[0m \u001b[1m77s\u001b[0m 2s/step - accuracy: 0.6077 - loss: 0.8364 - val_accuracy: 0.4833 - val_loss: 1.0109\n",
      "Epoch 7/20\n",
      "\u001b[1m42/42\u001b[0m \u001b[32m━━━━━━━━━━━━━━━━━━━━\u001b[0m\u001b[37m\u001b[0m \u001b[1m78s\u001b[0m 2s/step - accuracy: 0.5810 - loss: 0.8607 - val_accuracy: 0.5333 - val_loss: 0.9661\n",
      "Epoch 8/20\n",
      "\u001b[1m42/42\u001b[0m \u001b[32m━━━━━━━━━━━━━━━━━━━━\u001b[0m\u001b[37m\u001b[0m \u001b[1m79s\u001b[0m 2s/step - accuracy: 0.5569 - loss: 0.8896 - val_accuracy: 0.5167 - val_loss: 0.9572\n",
      "Epoch 9/20\n",
      "\u001b[1m42/42\u001b[0m \u001b[32m━━━━━━━━━━━━━━━━━━━━\u001b[0m\u001b[37m\u001b[0m \u001b[1m79s\u001b[0m 2s/step - accuracy: 0.6423 - loss: 0.7497 - val_accuracy: 0.7167 - val_loss: 0.7558\n",
      "Epoch 10/20\n",
      "\u001b[1m42/42\u001b[0m \u001b[32m━━━━━━━━━━━━━━━━━━━━\u001b[0m\u001b[37m\u001b[0m \u001b[1m80s\u001b[0m 2s/step - accuracy: 0.7260 - loss: 0.6649 - val_accuracy: 0.6500 - val_loss: 0.8625\n",
      "Epoch 11/20\n",
      "\u001b[1m42/42\u001b[0m \u001b[32m━━━━━━━━━━━━━━━━━━━━\u001b[0m\u001b[37m\u001b[0m \u001b[1m82s\u001b[0m 2s/step - accuracy: 0.7545 - loss: 0.6219 - val_accuracy: 0.6833 - val_loss: 0.5520\n",
      "Epoch 12/20\n",
      "\u001b[1m42/42\u001b[0m \u001b[32m━━━━━━━━━━━━━━━━━━━━\u001b[0m\u001b[37m\u001b[0m \u001b[1m84s\u001b[0m 2s/step - accuracy: 0.7735 - loss: 0.5625 - val_accuracy: 0.8167 - val_loss: 0.4742\n",
      "Epoch 13/20\n",
      "\u001b[1m42/42\u001b[0m \u001b[32m━━━━━━━━━━━━━━━━━━━━\u001b[0m\u001b[37m\u001b[0m \u001b[1m80s\u001b[0m 2s/step - accuracy: 0.8479 - loss: 0.4013 - val_accuracy: 0.8500 - val_loss: 0.4331\n",
      "Epoch 14/20\n",
      "\u001b[1m42/42\u001b[0m \u001b[32m━━━━━━━━━━━━━━━━━━━━\u001b[0m\u001b[37m\u001b[0m \u001b[1m82s\u001b[0m 2s/step - accuracy: 0.8938 - loss: 0.3179 - val_accuracy: 0.7167 - val_loss: 0.5884\n",
      "Epoch 15/20\n",
      "\u001b[1m42/42\u001b[0m \u001b[32m━━━━━━━━━━━━━━━━━━━━\u001b[0m\u001b[37m\u001b[0m \u001b[1m78s\u001b[0m 2s/step - accuracy: 0.8754 - loss: 0.3582 - val_accuracy: 0.8333 - val_loss: 0.4597\n",
      "Epoch 16/20\n",
      "\u001b[1m42/42\u001b[0m \u001b[32m━━━━━━━━━━━━━━━━━━━━\u001b[0m\u001b[37m\u001b[0m \u001b[1m83s\u001b[0m 2s/step - accuracy: 0.8744 - loss: 0.3290 - val_accuracy: 0.9000 - val_loss: 0.3446\n",
      "Epoch 17/20\n",
      "\u001b[1m42/42\u001b[0m \u001b[32m━━━━━━━━━━━━━━━━━━━━\u001b[0m\u001b[37m\u001b[0m \u001b[1m81s\u001b[0m 2s/step - accuracy: 0.9176 - loss: 0.2399 - val_accuracy: 0.8667 - val_loss: 0.2962\n",
      "Epoch 18/20\n",
      "\u001b[1m42/42\u001b[0m \u001b[32m━━━━━━━━━━━━━━━━━━━━\u001b[0m\u001b[37m\u001b[0m \u001b[1m79s\u001b[0m 2s/step - accuracy: 0.9266 - loss: 0.2345 - val_accuracy: 0.8667 - val_loss: 0.3528\n",
      "Epoch 19/20\n",
      "\u001b[1m42/42\u001b[0m \u001b[32m━━━━━━━━━━━━━━━━━━━━\u001b[0m\u001b[37m\u001b[0m \u001b[1m79s\u001b[0m 2s/step - accuracy: 0.8936 - loss: 0.3002 - val_accuracy: 0.8667 - val_loss: 0.3814\n",
      "Epoch 20/20\n",
      "\u001b[1m42/42\u001b[0m \u001b[32m━━━━━━━━━━━━━━━━━━━━\u001b[0m\u001b[37m\u001b[0m \u001b[1m79s\u001b[0m 2s/step - accuracy: 0.9196 - loss: 0.2114 - val_accuracy: 0.9000 - val_loss: 0.3144\n"
     ]
    }
   ],
   "source": [
    "history = vit_model.fit(train_dataset, epochs=20, validation_data=val_dataset)"
   ]
  },
  {
   "cell_type": "markdown",
   "id": "87d238c6",
   "metadata": {
    "papermill": {
     "duration": 0.073876,
     "end_time": "2024-12-15T20:55:55.462434",
     "exception": false,
     "start_time": "2024-12-15T20:55:55.388558",
     "status": "completed"
    },
    "tags": []
   },
   "source": [
    "### Training Results"
   ]
  },
  {
   "cell_type": "code",
   "execution_count": 6,
   "id": "4e94a14d",
   "metadata": {
    "execution": {
     "iopub.execute_input": "2024-12-15T20:55:55.536985Z",
     "iopub.status.busy": "2024-12-15T20:55:55.536695Z",
     "iopub.status.idle": "2024-12-15T20:55:55.937097Z",
     "shell.execute_reply": "2024-12-15T20:55:55.936235Z"
    },
    "papermill": {
     "duration": 0.439898,
     "end_time": "2024-12-15T20:55:55.938851",
     "exception": false,
     "start_time": "2024-12-15T20:55:55.498953",
     "status": "completed"
    },
    "tags": []
   },
   "outputs": [
    {
     "data": {
      "image/png": "[encoded data removed]",
      "text/plain": [
       "<Figure size 1200x400 with 2 Axes>"
      ]
     },
     "metadata": {},
     "output_type": "display_data"
    }
   ],
   "source": [
    "# Plot training accuracy, validation accuracy, and validation loss\n",
    "plt.figure(figsize=(12, 4))\n",
    "\n",
    "# Plot training & validation accuracy values\n",
    "plt.subplot(1, 2, 1)\n",
    "plt.plot(history.history['accuracy'], label='Training Accuracy')\n",
    "plt.plot(history.history['val_accuracy'], label='Validation Accuracy')\n",
    "plt.title('Model Accuracy')\n",
    "plt.xlabel('Epoch')\n",
    "plt.ylabel('Accuracy')\n",
    "plt.legend()\n",
    "\n",
    "# Plot validation loss values\n",
    "plt.subplot(1, 2, 2)\n",
    "plt.plot(history.history['val_loss'], label='Validation Loss')\n",
    "plt.title('Model Loss')\n",
    "plt.xlabel('Epoch')\n",
    "plt.ylabel('Loss')\n",
    "plt.legend()\n",
    "\n",
    "plt.show()"
   ]
  },
  {
   "cell_type": "markdown",
   "id": "d791d06f",
   "metadata": {
    "papermill": {
     "duration": 0.037637,
     "end_time": "2024-12-15T20:55:56.014504",
     "exception": false,
     "start_time": "2024-12-15T20:55:55.976867",
     "status": "completed"
    },
    "tags": []
   },
   "source": [
    "### Evaluate on test set"
   ]
  },
  {
   "cell_type": "code",
   "execution_count": 7,
   "id": "86c601c5",
   "metadata": {
    "execution": {
     "iopub.execute_input": "2024-12-15T20:55:56.091448Z",
     "iopub.status.busy": "2024-12-15T20:55:56.090735Z",
     "iopub.status.idle": "2024-12-15T20:56:20.023965Z",
     "shell.execute_reply": "2024-12-15T20:56:20.023109Z"
    },
    "papermill": {
     "duration": 23.973714,
     "end_time": "2024-12-15T20:56:20.025572",
     "exception": false,
     "start_time": "2024-12-15T20:55:56.051858",
     "status": "completed"
    },
    "tags": []
   },
   "outputs": [
    {
     "name": "stdout",
     "output_type": "stream",
     "text": [
      "\u001b[1m5/5\u001b[0m \u001b[32m━━━━━━━━━━━━━━━━━━━━\u001b[0m\u001b[37m\u001b[0m \u001b[1m9s\u001b[0m 2s/step - accuracy: 0.8924 - loss: 0.2952\n",
      "Test Loss: 0.2901151478290558\n",
      "Test Accuracy: 0.8933333158493042\n",
      "\u001b[1m1/1\u001b[0m \u001b[32m━━━━━━━━━━━━━━━━━━━━\u001b[0m\u001b[37m\u001b[0m \u001b[1m1s\u001b[0m 1s/step\n",
      "\u001b[1m1/1\u001b[0m \u001b[32m━━━━━━━━━━━━━━━━━━━━\u001b[0m\u001b[37m\u001b[0m \u001b[1m0s\u001b[0m 37ms/step\n",
      "\u001b[1m1/1\u001b[0m \u001b[32m━━━━━━━━━━━━━━━━━━━━\u001b[0m\u001b[37m\u001b[0m \u001b[1m0s\u001b[0m 25ms/step\n",
      "\u001b[1m1/1\u001b[0m \u001b[32m━━━━━━━━━━━━━━━━━━━━\u001b[0m\u001b[37m\u001b[0m \u001b[1m0s\u001b[0m 37ms/step\n",
      "\u001b[1m1/1\u001b[0m \u001b[32m━━━━━━━━━━━━━━━━━━━━\u001b[0m\u001b[37m\u001b[0m \u001b[1m1s\u001b[0m 1s/step\n"
     ]
    },
    {
     "data": {
      "text/plain": [
       "<Figure size 1000x800 with 0 Axes>"
      ]
     },
     "metadata": {},
     "output_type": "display_data"
    },
    {
     "data": {
      "image/png": "[encoded data removed]",
      "text/plain": [
       "<Figure size 640x480 with 2 Axes>"
      ]
     },
     "metadata": {},
     "output_type": "display_data"
    }
   ],
   "source": [
    "# Evaluate on the test dataset and calculate confusion matrix\n",
    "test_loss, test_accuracy = vit_model.evaluate(test_dataset)\n",
    "print(f'Test Loss: {test_loss}')\n",
    "print(f'Test Accuracy: {test_accuracy}')\n",
    "\n",
    "# Generate predictions and true labels for the test set\n",
    "y_true = []\n",
    "y_pred = []\n",
    "\n",
    "# Iterate over the test dataset to collect predictions and true labels\n",
    "for images, labels in test_dataset:\n",
    "    preds = vit_model.predict(images)\n",
    "    y_pred.extend(np.argmax(preds, axis=1))\n",
    "    y_true.extend(labels)\n",
    "\n",
    "    # Break the loop after one full epoch (test dataset size is fixed)\n",
    "    if len(y_true) >= test_dataset.samples:\n",
    "        break\n",
    "\n",
    "# Calculate the confusion matrix\n",
    "cm = confusion_matrix(y_true, y_pred)\n",
    "class_names = list(test_dataset.class_indices.keys())\n",
    "\n",
    "# Plot the confusion matrix\n",
    "plt.figure(figsize=(10, 8))\n",
    "disp = ConfusionMatrixDisplay(confusion_matrix=cm, display_labels=class_names)\n",
    "disp.plot(cmap=plt.cm.Blues, values_format='d')\n",
    "plt.title(\"Confusion Matrix for Test Set\")\n",
    "plt.show()"
   ]
  },
  {
   "cell_type": "markdown",
   "id": "f7528ece",
   "metadata": {
    "papermill": {
     "duration": 0.038628,
     "end_time": "2024-12-15T20:56:20.103767",
     "exception": false,
     "start_time": "2024-12-15T20:56:20.065139",
     "status": "completed"
    },
    "tags": []
   },
   "source": [
    "### Save model"
   ]
  },
  {
   "cell_type": "code",
   "execution_count": 8,
   "id": "a05a4a45",
   "metadata": {
    "execution": {
     "iopub.execute_input": "2024-12-15T20:56:20.183425Z",
     "iopub.status.busy": "2024-12-15T20:56:20.182742Z",
     "iopub.status.idle": "2024-12-15T20:56:20.375017Z",
     "shell.execute_reply": "2024-12-15T20:56:20.374178Z"
    },
    "papermill": {
     "duration": 0.233822,
     "end_time": "2024-12-15T20:56:20.377006",
     "exception": false,
     "start_time": "2024-12-15T20:56:20.143184",
     "status": "completed"
    },
    "tags": []
   },
   "outputs": [],
   "source": [
    "# Save the model\n",
    "vit_model.save('/kaggle/working/vit_plant_disease_model.h5')"
   ]
  }
 ],
 "metadata": {
  "kaggle": {
   "accelerator": "gpu",
   "dataSources": [
    {
     "datasetId": 1447507,
     "sourceId": 2394131,
     "sourceType": "datasetVersion"
    }
   ],
   "dockerImageVersionId": 30787,
   "isGpuEnabled": true,
   "isInternetEnabled": true,
   "language": "python",
   "sourceType": "notebook"
  },
  "kernelspec": {
   "display_name": "Python 3",
   "language": "python",
   "name": "python3"
  },
  "language_info": {
   "codemirror_mode": {
    "name": "ipython",
    "version": 3
   },
   "file_extension": ".py",
   "mimetype": "text/x-python",
   "name": "python",
   "nbconvert_exporter": "python",
   "pygments_lexer": "ipython3",
   "version": "3.10.14"
  },
  "papermill": {
   "default_parameters": {},
   "duration": 1718.293938,
   "end_time": "2024-12-15T20:56:23.472552",
   "environment_variables": {},
   "exception": null,
   "input_path": "__notebook__.ipynb",
   "output_path": "__notebook__.ipynb",
   "parameters": {},
   "start_time": "2024-12-15T20:27:45.178614",
   "version": "2.6.0"
  }
 },
 "nbformat": 4,
 "nbformat_minor": 5
}
